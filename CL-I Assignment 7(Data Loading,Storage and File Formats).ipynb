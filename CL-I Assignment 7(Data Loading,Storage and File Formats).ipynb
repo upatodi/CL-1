{
 "cells": [
  {
   "cell_type": "code",
   "execution_count": 5,
   "id": "3a60f275",
   "metadata": {},
   "outputs": [],
   "source": [
    "import pandas as pd"
   ]
  },
  {
   "cell_type": "code",
   "execution_count": 6,
   "id": "a53275b6",
   "metadata": {},
   "outputs": [],
   "source": [
    "csv_data = pd.read_csv('customers.csv')"
   ]
  },
  {
   "cell_type": "code",
   "execution_count": 7,
   "id": "dfd4ec38",
   "metadata": {},
   "outputs": [],
   "source": [
    "excel_data = pd.read_excel('customers.xlsx')"
   ]
  },
  {
   "cell_type": "code",
   "execution_count": 8,
   "id": "29be5c47",
   "metadata": {},
   "outputs": [],
   "source": [
    "import json\n",
    "with open('customers.json', 'r') as json_file:\n",
    "    json_data = json.load(json_file)\n",
    "    json_data = pd.DataFrame(json_data)"
   ]
  },
  {
   "cell_type": "code",
   "execution_count": 9,
   "id": "1b0ac20b",
   "metadata": {},
   "outputs": [
    {
     "name": "stdout",
     "output_type": "stream",
     "text": [
      "CSV Data:\n",
      "  first_name last_name                               email  \\\n",
      "0     Joseph      Rice      josephrice131@slingacademy.com   \n",
      "1       Gary     Moore       garymoore386@slingacademy.com   \n",
      "2       John    Walker      johnwalker944@slingacademy.com   \n",
      "3       Eric    Carter      ericcarter176@slingacademy.com   \n",
      "4    William   Jackson  williamjackson427@slingacademy.com   \n",
      "\n",
      "                  phone                                   address gender  age  \\\n",
      "0  +1-800-040-3135x6208    91773 Miller Shoal\\nDiaztown, FL 38841   male   43   \n",
      "1     221.945.4191x8872       6450 John Lodge\\nTerriton, KY 95945   male   71   \n",
      "2     388-142-4883x5370  27265 Murray Island\\nKevinfort, PA 63231   male   44   \n",
      "3         (451)259-5402                 USNS Knight\\nFPO AA 76532   male   38   \n",
      "4      625.626.9133x374   170 Jackson Loaf\\nKristenland, AS 48876   male   58   \n",
      "\n",
      "   registered  orders   spent       job                      hobbies  \\\n",
      "0  2019-05-05       7  568.29    Artist               Playing sports   \n",
      "1  2020-05-20      11  568.92    Artist                     Swimming   \n",
      "2  2020-04-04      11  497.12     Clerk                     Painting   \n",
      "3  2019-01-30      17  834.60   Butcher  Playing musical instruments   \n",
      "4  2022-07-01      14  151.59  Engineer                      Reading   \n",
      "\n",
      "   is_married  \n",
      "0       False  \n",
      "1        True  \n",
      "2       False  \n",
      "3       False  \n",
      "4       False  \n"
     ]
    }
   ],
   "source": [
    "print(\"CSV Data:\")\n",
    "print(csv_data.head())"
   ]
  },
  {
   "cell_type": "code",
   "execution_count": 10,
   "id": "52f9156e",
   "metadata": {},
   "outputs": [
    {
     "name": "stdout",
     "output_type": "stream",
     "text": [
      "\n",
      "Excel Data:\n",
      "  first_name last_name                               email  \\\n",
      "0     Joseph      Rice      josephrice131@slingacademy.com   \n",
      "1       Gary     Moore       garymoore386@slingacademy.com   \n",
      "2       John    Walker      johnwalker944@slingacademy.com   \n",
      "3       Eric    Carter      ericcarter176@slingacademy.com   \n",
      "4    William   Jackson  williamjackson427@slingacademy.com   \n",
      "\n",
      "                  phone                                   address gender  age  \\\n",
      "0  +1-800-040-3135x6208    91773 Miller Shoal\\nDiaztown, FL 38841   male   43   \n",
      "1     221.945.4191x8872       6450 John Lodge\\nTerriton, KY 95945   male   71   \n",
      "2     388-142-4883x5370  27265 Murray Island\\nKevinfort, PA 63231   male   44   \n",
      "3         (451)259-5402                 USNS Knight\\nFPO AA 76532   male   38   \n",
      "4      625.626.9133x374   170 Jackson Loaf\\nKristenland, AS 48876   male   58   \n",
      "\n",
      "  registered  orders   spent       job                      hobbies  \\\n",
      "0 2019-05-05       7  568.29    Artist               Playing sports   \n",
      "1 2020-05-20      11  568.92    Artist                     Swimming   \n",
      "2 2020-04-04      11  497.12     Clerk                     Painting   \n",
      "3 2019-01-30      17  834.60   Butcher  Playing musical instruments   \n",
      "4 2022-07-01      14  151.59  Engineer                      Reading   \n",
      "\n",
      "   is_married  \n",
      "0       False  \n",
      "1        True  \n",
      "2       False  \n",
      "3       False  \n",
      "4       False  \n"
     ]
    }
   ],
   "source": [
    "print(\"\\nExcel Data:\")\n",
    "print(excel_data.head())"
   ]
  },
  {
   "cell_type": "code",
   "execution_count": 11,
   "id": "d939dd22",
   "metadata": {},
   "outputs": [
    {
     "name": "stdout",
     "output_type": "stream",
     "text": [
      "\n",
      "JSON Data: \n",
      "  first_name last_name                               email  \\\n",
      "0     Joseph      Rice      josephrice131@slingacademy.com   \n",
      "1       Gary     Moore       garymoore386@slingacademy.com   \n",
      "2       John    Walker      johnwalker944@slingacademy.com   \n",
      "3       Eric    Carter      ericcarter176@slingacademy.com   \n",
      "4    William   Jackson  williamjackson427@slingacademy.com   \n",
      "\n",
      "                  phone                                   address gender  age  \\\n",
      "0  +1-800-040-3135x6208    91773 Miller Shoal\\nDiaztown, FL 38841   male   43   \n",
      "1     221.945.4191x8872       6450 John Lodge\\nTerriton, KY 95945   male   71   \n",
      "2     388-142-4883x5370  27265 Murray Island\\nKevinfort, PA 63231   male   44   \n",
      "3         (451)259-5402                 USNS Knight\\nFPO AA 76532   male   38   \n",
      "4      625.626.9133x374   170 Jackson Loaf\\nKristenland, AS 48876   male   58   \n",
      "\n",
      "                registered  orders   spent       job  \\\n",
      "0  2019-05-05T00:00:00.000       7  568.29    Artist   \n",
      "1  2020-05-20T00:00:00.000      11  568.92    Artist   \n",
      "2  2020-04-04T00:00:00.000      11  497.12     Clerk   \n",
      "3  2019-01-30T00:00:00.000      17  834.60   Butcher   \n",
      "4  2022-07-01T00:00:00.000      14  151.59  Engineer   \n",
      "\n",
      "                       hobbies  is_married  \n",
      "0               Playing sports       False  \n",
      "1                     Swimming        True  \n",
      "2                     Painting       False  \n",
      "3  Playing musical instruments       False  \n",
      "4                      Reading       False  \n"
     ]
    }
   ],
   "source": [
    "print(\"\\nJSON Data: \")\n",
    "print(json_data.head())"
   ]
  },
  {
   "cell_type": "code",
   "execution_count": 12,
   "id": "14a54d5f",
   "metadata": {},
   "outputs": [
    {
     "name": "stdout",
     "output_type": "stream",
     "text": [
      "Stricture and Info of CSV Data: \n",
      "<class 'pandas.core.frame.DataFrame'>\n",
      "RangeIndex: 1000 entries, 0 to 999\n",
      "Data columns (total 13 columns):\n",
      " #   Column      Non-Null Count  Dtype  \n",
      "---  ------      --------------  -----  \n",
      " 0   first_name  1000 non-null   object \n",
      " 1   last_name   1000 non-null   object \n",
      " 2   email       1000 non-null   object \n",
      " 3   phone       1000 non-null   object \n",
      " 4   address     1000 non-null   object \n",
      " 5   gender      1000 non-null   object \n",
      " 6   age         1000 non-null   int64  \n",
      " 7   registered  1000 non-null   object \n",
      " 8   orders      1000 non-null   int64  \n",
      " 9   spent       1000 non-null   float64\n",
      " 10  job         1000 non-null   object \n",
      " 11  hobbies     1000 non-null   object \n",
      " 12  is_married  1000 non-null   bool   \n",
      "dtypes: bool(1), float64(1), int64(2), object(9)\n",
      "memory usage: 94.9+ KB\n",
      "None\n"
     ]
    }
   ],
   "source": [
    "print(\"Stricture and Info of CSV Data: \")\n",
    "print(csv_data.info())"
   ]
  },
  {
   "cell_type": "code",
   "execution_count": 13,
   "id": "d0604530",
   "metadata": {},
   "outputs": [
    {
     "name": "stdout",
     "output_type": "stream",
     "text": [
      "\n",
      "Missing Values in CSV Data:\n",
      "first_name    0\n",
      "last_name     0\n",
      "email         0\n",
      "phone         0\n",
      "address       0\n",
      "gender        0\n",
      "age           0\n",
      "registered    0\n",
      "orders        0\n",
      "spent         0\n",
      "job           0\n",
      "hobbies       0\n",
      "is_married    0\n",
      "dtype: int64\n",
      "Cleaned CSV data:\n",
      "  first_name last_name                               email  \\\n",
      "0     Joseph      Rice      josephrice131@slingacademy.com   \n",
      "1       Gary     Moore       garymoore386@slingacademy.com   \n",
      "2       John    Walker      johnwalker944@slingacademy.com   \n",
      "3       Eric    Carter      ericcarter176@slingacademy.com   \n",
      "4    William   Jackson  williamjackson427@slingacademy.com   \n",
      "\n",
      "                  phone                                   address gender  age  \\\n",
      "0  +1-800-040-3135x6208    91773 Miller Shoal\\nDiaztown, FL 38841   male   43   \n",
      "1     221.945.4191x8872       6450 John Lodge\\nTerriton, KY 95945   male   71   \n",
      "2     388-142-4883x5370  27265 Murray Island\\nKevinfort, PA 63231   male   44   \n",
      "3         (451)259-5402                 USNS Knight\\nFPO AA 76532   male   38   \n",
      "4      625.626.9133x374   170 Jackson Loaf\\nKristenland, AS 48876   male   58   \n",
      "\n",
      "   registered  orders   spent       job                      hobbies  \\\n",
      "0  2019-05-05       7  568.29    Artist               Playing sports   \n",
      "1  2020-05-20      11  568.92    Artist                     Swimming   \n",
      "2  2020-04-04      11  497.12     Clerk                     Painting   \n",
      "3  2019-01-30      17  834.60   Butcher  Playing musical instruments   \n",
      "4  2022-07-01      14  151.59  Engineer                      Reading   \n",
      "\n",
      "   is_married  \n",
      "0       False  \n",
      "1        True  \n",
      "2       False  \n",
      "3       False  \n",
      "4       False  \n"
     ]
    }
   ],
   "source": [
    "print(\"\\nMissing Values in CSV Data:\")\n",
    "print(csv_data.isnull().sum())\n",
    "csv_data.fillna(0, inplace=True)\n",
    "csv_data.drop_duplicates(inplace=True)\n",
    "print(\"Cleaned CSV data:\")\n",
    "print(csv_data.head())"
   ]
  },
  {
   "cell_type": "code",
   "execution_count": 14,
   "id": "8e52f0f2",
   "metadata": {},
   "outputs": [
    {
     "name": "stdout",
     "output_type": "stream",
     "text": [
      "\n",
      "Missing Values and Info in excel Data:\n",
      "first_name    0\n",
      "last_name     0\n",
      "email         0\n",
      "phone         0\n",
      "address       0\n",
      "gender        0\n",
      "age           0\n",
      "registered    0\n",
      "orders        0\n",
      "spent         0\n",
      "job           0\n",
      "hobbies       0\n",
      "is_married    0\n",
      "dtype: int64\n",
      "Cleaned excel data: \n",
      "    first_name last_name                               email  \\\n",
      "0       Joseph      Rice      josephrice131@slingacademy.com   \n",
      "1         Gary     Moore       garymoore386@slingacademy.com   \n",
      "2         John    Walker      johnwalker944@slingacademy.com   \n",
      "3         Eric    Carter      ericcarter176@slingacademy.com   \n",
      "4      William   Jackson  williamjackson427@slingacademy.com   \n",
      "..         ...       ...                                 ...   \n",
      "995     Alexis  Williams  alexiswilliams395@slingacademy.com   \n",
      "996      Karen    Mendez     karenmendez129@slingacademy.com   \n",
      "997   Michaela     Smith   michaelasmith815@slingacademy.com   \n",
      "998   Kathleen     Scott   kathleenscott395@slingacademy.com   \n",
      "999       Carl    Acosta      carlacosta740@slingacademy.com   \n",
      "\n",
      "                    phone                                            address  \\\n",
      "0    +1-800-040-3135x6208             91773 Miller Shoal\\nDiaztown, FL 38841   \n",
      "1       221.945.4191x8872                6450 John Lodge\\nTerriton, KY 95945   \n",
      "2       388-142-4883x5370           27265 Murray Island\\nKevinfort, PA 63231   \n",
      "3           (451)259-5402                          USNS Knight\\nFPO AA 76532   \n",
      "4        625.626.9133x374            170 Jackson Loaf\\nKristenland, AS 48876   \n",
      "..                    ...                                                ...   \n",
      "995    (659)856-5718x2171  76824 Richards Extensions Suite 123\\nDenisevie...   \n",
      "996            0339203729   48875 Brown Street\\nEast Michelleburgh, KS 22960   \n",
      "997  +1-106-147-6378x3133  576 Little Lights Suite 465\\nSouth Johnny, PR ...   \n",
      "998     (788)465-5647x419  5655 Gross Prairie Suite 656\\nWest Jenniferbur...   \n",
      "999   +1-183-389-0336x962                   Unit 2581 Box 3388\\nDPO AA 71544   \n",
      "\n",
      "     gender  age registered  orders   spent          job  \\\n",
      "0      male   43 2019-05-05       7  568.29       Artist   \n",
      "1      male   71 2020-05-20      11  568.92       Artist   \n",
      "2      male   44 2020-04-04      11  497.12        Clerk   \n",
      "3      male   38 2019-01-30      17  834.60      Butcher   \n",
      "4      male   58 2022-07-01      14  151.59     Engineer   \n",
      "..      ...  ...        ...     ...     ...          ...   \n",
      "995  female   34 2019-07-16       4  351.18  Firefighter   \n",
      "996  female   35 2020-01-30       2   45.27      Janitor   \n",
      "997  female   23 2019-02-22       9  381.57         Chef   \n",
      "998  female   72 2019-05-23       8  855.10        Clerk   \n",
      "999    male   50 2020-01-27      20  456.16      Teacher   \n",
      "\n",
      "                         hobbies  is_married  \n",
      "0                 Playing sports       False  \n",
      "1                       Swimming        True  \n",
      "2                       Painting       False  \n",
      "3    Playing musical instruments       False  \n",
      "4                        Reading       False  \n",
      "..                           ...         ...  \n",
      "995                       Sewing       False  \n",
      "996                       Baking       False  \n",
      "997                      Drawing        True  \n",
      "998                   Meditation        True  \n",
      "999                       Hiking       False  \n",
      "\n",
      "[1000 rows x 13 columns]\n"
     ]
    }
   ],
   "source": [
    "print(\"\\nMissing Values and Info in excel Data:\")\n",
    "print(excel_data.isnull().sum())\n",
    "excel_data.fillna(0,inplace=True)\n",
    "excel_data.drop_duplicates(inplace=True)\n",
    "print(\"Cleaned excel data: \")\n",
    "print(excel_data)"
   ]
  },
  {
   "cell_type": "code",
   "execution_count": 15,
   "id": "a95157aa",
   "metadata": {},
   "outputs": [
    {
     "name": "stdout",
     "output_type": "stream",
     "text": [
      "\n",
      "Missing values and info of json data: \n",
      "first_name    0\n",
      "last_name     0\n",
      "email         0\n",
      "phone         0\n",
      "address       0\n",
      "gender        0\n",
      "age           0\n",
      "registered    0\n",
      "orders        0\n",
      "spent         0\n",
      "job           0\n",
      "hobbies       0\n",
      "is_married    0\n",
      "dtype: int64\n",
      "Cleaned JSON Data: \n",
      "    first_name last_name                               email  \\\n",
      "0       Joseph      Rice      josephrice131@slingacademy.com   \n",
      "1         Gary     Moore       garymoore386@slingacademy.com   \n",
      "2         John    Walker      johnwalker944@slingacademy.com   \n",
      "3         Eric    Carter      ericcarter176@slingacademy.com   \n",
      "4      William   Jackson  williamjackson427@slingacademy.com   \n",
      "..         ...       ...                                 ...   \n",
      "995     Alexis  Williams  alexiswilliams395@slingacademy.com   \n",
      "996      Karen    Mendez     karenmendez129@slingacademy.com   \n",
      "997   Michaela     Smith   michaelasmith815@slingacademy.com   \n",
      "998   Kathleen     Scott   kathleenscott395@slingacademy.com   \n",
      "999       Carl    Acosta      carlacosta740@slingacademy.com   \n",
      "\n",
      "                    phone                                            address  \\\n",
      "0    +1-800-040-3135x6208             91773 Miller Shoal\\nDiaztown, FL 38841   \n",
      "1       221.945.4191x8872                6450 John Lodge\\nTerriton, KY 95945   \n",
      "2       388-142-4883x5370           27265 Murray Island\\nKevinfort, PA 63231   \n",
      "3           (451)259-5402                          USNS Knight\\nFPO AA 76532   \n",
      "4        625.626.9133x374            170 Jackson Loaf\\nKristenland, AS 48876   \n",
      "..                    ...                                                ...   \n",
      "995    (659)856-5718x2171  76824 Richards Extensions Suite 123\\nDenisevie...   \n",
      "996            0339203729   48875 Brown Street\\nEast Michelleburgh, KS 22960   \n",
      "997  +1-106-147-6378x3133  576 Little Lights Suite 465\\nSouth Johnny, PR ...   \n",
      "998     (788)465-5647x419  5655 Gross Prairie Suite 656\\nWest Jenniferbur...   \n",
      "999   +1-183-389-0336x962                   Unit 2581 Box 3388\\nDPO AA 71544   \n",
      "\n",
      "     gender  age               registered  orders   spent          job  \\\n",
      "0      male   43  2019-05-05T00:00:00.000       7  568.29       Artist   \n",
      "1      male   71  2020-05-20T00:00:00.000      11  568.92       Artist   \n",
      "2      male   44  2020-04-04T00:00:00.000      11  497.12        Clerk   \n",
      "3      male   38  2019-01-30T00:00:00.000      17  834.60      Butcher   \n",
      "4      male   58  2022-07-01T00:00:00.000      14  151.59     Engineer   \n",
      "..      ...  ...                      ...     ...     ...          ...   \n",
      "995  female   34  2019-07-16T00:00:00.000       4  351.18  Firefighter   \n",
      "996  female   35  2020-01-30T00:00:00.000       2   45.27      Janitor   \n",
      "997  female   23  2019-02-22T00:00:00.000       9  381.57         Chef   \n",
      "998  female   72  2019-05-23T00:00:00.000       8  855.10        Clerk   \n",
      "999    male   50  2020-01-27T00:00:00.000      20  456.16      Teacher   \n",
      "\n",
      "                         hobbies  is_married  \n",
      "0                 Playing sports       False  \n",
      "1                       Swimming        True  \n",
      "2                       Painting       False  \n",
      "3    Playing musical instruments       False  \n",
      "4                        Reading       False  \n",
      "..                           ...         ...  \n",
      "995                       Sewing       False  \n",
      "996                       Baking       False  \n",
      "997                      Drawing        True  \n",
      "998                   Meditation        True  \n",
      "999                       Hiking       False  \n",
      "\n",
      "[1000 rows x 13 columns]\n"
     ]
    }
   ],
   "source": [
    "print(\"\\nMissing values and info of json data: \")\n",
    "print(json_data.isnull().sum())\n",
    "json_data.fillna(0,inplace=True)\n",
    "json_data.drop_duplicates(inplace=True)\n",
    "print(\"Cleaned JSON Data: \")\n",
    "print(json_data)"
   ]
  },
  {
   "cell_type": "code",
   "execution_count": 16,
   "id": "37953786",
   "metadata": {},
   "outputs": [],
   "source": [
    "common_df = pd.concat([csv_data, excel_data, json_data],ignore_index=True)"
   ]
  },
  {
   "cell_type": "code",
   "execution_count": 17,
   "id": "b8b0dc50",
   "metadata": {},
   "outputs": [
    {
     "name": "stdout",
     "output_type": "stream",
     "text": [
      "Unified Data:\n",
      "  first_name last_name                               email  \\\n",
      "0     Joseph      Rice      josephrice131@slingacademy.com   \n",
      "1       Gary     Moore       garymoore386@slingacademy.com   \n",
      "2       John    Walker      johnwalker944@slingacademy.com   \n",
      "3       Eric    Carter      ericcarter176@slingacademy.com   \n",
      "4    William   Jackson  williamjackson427@slingacademy.com   \n",
      "\n",
      "                  phone                                   address gender  age  \\\n",
      "0  +1-800-040-3135x6208    91773 Miller Shoal\\nDiaztown, FL 38841   male   43   \n",
      "1     221.945.4191x8872       6450 John Lodge\\nTerriton, KY 95945   male   71   \n",
      "2     388-142-4883x5370  27265 Murray Island\\nKevinfort, PA 63231   male   44   \n",
      "3         (451)259-5402                 USNS Knight\\nFPO AA 76532   male   38   \n",
      "4      625.626.9133x374   170 Jackson Loaf\\nKristenland, AS 48876   male   58   \n",
      "\n",
      "   registered  orders   spent       job                      hobbies  \\\n",
      "0  2019-05-05       7  568.29    Artist               Playing sports   \n",
      "1  2020-05-20      11  568.92    Artist                     Swimming   \n",
      "2  2020-04-04      11  497.12     Clerk                     Painting   \n",
      "3  2019-01-30      17  834.60   Butcher  Playing musical instruments   \n",
      "4  2022-07-01      14  151.59  Engineer                      Reading   \n",
      "\n",
      "   is_married  \n",
      "0       False  \n",
      "1        True  \n",
      "2       False  \n",
      "3       False  \n",
      "4       False  \n"
     ]
    }
   ],
   "source": [
    "print(\"Unified Data:\")\n",
    "print(common_df.head())"
   ]
  },
  {
   "cell_type": "code",
   "execution_count": 18,
   "id": "4c0df09d",
   "metadata": {},
   "outputs": [
    {
     "name": "stdout",
     "output_type": "stream",
     "text": [
      "Transformed Data: \n",
      "  first_name last_name                               email  \\\n",
      "0     Joseph      Rice      josephrice131@slingacademy.com   \n",
      "1       Gary     Moore       garymoore386@slingacademy.com   \n",
      "2       John    Walker      johnwalker944@slingacademy.com   \n",
      "3       Eric    Carter      ericcarter176@slingacademy.com   \n",
      "4    William   Jackson  williamjackson427@slingacademy.com   \n",
      "\n",
      "                  phone                                   address gender  age  \\\n",
      "0  +1-800-040-3135x6208    91773 Miller Shoal\\nDiaztown, FL 38841   male   43   \n",
      "1     221.945.4191x8872       6450 John Lodge\\nTerriton, KY 95945   male   71   \n",
      "2     388-142-4883x5370  27265 Murray Island\\nKevinfort, PA 63231   male   44   \n",
      "3         (451)259-5402                 USNS Knight\\nFPO AA 76532   male   38   \n",
      "4      625.626.9133x374   170 Jackson Loaf\\nKristenland, AS 48876   male   58   \n",
      "\n",
      "   registered  orders   spent       job                      hobbies  \\\n",
      "0  2019-05-05       7  568.29    Artist               Playing sports   \n",
      "1  2020-05-20      11  568.92    Artist                     Swimming   \n",
      "2  2020-04-04      11  497.12     Clerk                     Painting   \n",
      "3  2019-01-30      17  834.60   Butcher  Playing musical instruments   \n",
      "4  2022-07-01      14  151.59  Engineer                      Reading   \n",
      "\n",
      "   is_married phone_area_code  total_spent  \n",
      "0       False               1      3978.03  \n",
      "1        True             221      6258.12  \n",
      "2       False             388      5468.32  \n",
      "3       False             451     14188.20  \n",
      "4       False             625      2122.26  \n"
     ]
    }
   ],
   "source": [
    "common_df = pd.concat([csv_data, excel_data, json_data],ignore_index=True)\n",
    " # Split a column and create new variables\n",
    "common_df['phone_area_code'] = common_df['phone'].str.extract(r'(\\d+)')\n",
    " # Derive a new variable\n",
    "common_df['total_spent'] = common_df['orders'] * common_df['spent']\n",
    " # Print the transformed DataFrame\n",
    "print(\"Transformed Data: \")\n",
    "print(common_df.head())"
   ]
  },
  {
   "cell_type": "code",
   "execution_count": 19,
   "id": "fca58266",
   "metadata": {},
   "outputs": [
    {
     "name": "stdout",
     "output_type": "stream",
     "text": [
      "Descriptive Statistics:\n",
      "               age       orders        spent   total_spent\n",
      "count  3000.000000  3000.000000  3000.000000   3000.000000\n",
      "mean     48.145000    10.036000   496.295100   4897.263710\n",
      "std      18.346339     6.173606   289.132777   4466.151285\n",
      "min      18.000000     0.000000     0.490000      0.000000\n",
      "25%      32.000000     5.000000   248.100000   1284.262500\n",
      "50%      47.000000    10.000000   469.045000   3628.140000\n",
      "75%      64.000000    15.000000   739.660000   7375.115000\n",
      "max      80.000000    20.000000   999.150000  19983.000000\n"
     ]
    }
   ],
   "source": [
    "desc_stats = common_df.describe()\n",
    "print(\"Descriptive Statistics:\")\n",
    "print(desc_stats)"
   ]
  },
  {
   "cell_type": "code",
   "execution_count": 20,
   "id": "3182fdda",
   "metadata": {},
   "outputs": [
    {
     "name": "stdout",
     "output_type": "stream",
     "text": [
      "Aggregate Data by Job:\n",
      "                orders       spent\n",
      "job                               \n",
      "Accountant        1008  480.695882\n",
      "Architect          654  549.016667\n",
      "Artist             591  576.194583\n",
      "Athlete            906  503.059630\n",
      "Baker              981  469.264194\n",
      "Barber            1038  453.617143\n",
      "Butcher            975  430.244687\n",
      "Carpenter          471  521.049000\n",
      "Cashier            831  541.296538\n",
      "Chef              1050  501.610938\n",
      "Clerk              762  486.912083\n",
      "Dentist            900  498.399667\n",
      "Doctor             927  498.835000\n",
      "Engineer           909  485.854231\n",
      "Farmer             627  417.005217\n",
      "Firefighter        795  421.117692\n",
      "Hairdresser        828  474.699259\n",
      "Housewife          786  470.946154\n",
      "Janitor            960  528.832000\n",
      "Lawyer            1047  524.990000\n",
      "Librarian          408  445.107143\n",
      "Mechanic           885  547.160606\n",
      "Nurse              753  430.046296\n",
      "Officer            582  553.467000\n",
      "Pilot              945  495.528750\n",
      "Polic              738  418.494400\n",
      "Politician         630  561.991739\n",
      "Receptionist       840  561.750294\n",
      "Scientist          648  475.320476\n",
      "Security Guard     765  535.684815\n",
      "Student            837  522.103077\n",
      "Tailor            1014  463.127059\n",
      "Teacher            780  473.012500\n",
      "Unemployed        1017  433.800000\n",
      "Unkown             600  579.054091\n",
      "Waiter             717  572.398400\n",
      "Waitress           903  475.518889\n"
     ]
    }
   ],
   "source": [
    "agg_data = common_df.groupby('job').agg({'orders':'sum','spent':'mean'})\n",
    "print(\"Aggregate Data by Job:\")\n",
    "print(agg_data)"
   ]
  },
  {
   "cell_type": "code",
   "execution_count": 21,
   "id": "d22b427e",
   "metadata": {},
   "outputs": [
    {
     "name": "stdout",
     "output_type": "stream",
     "text": [
      "Total Sales:\n",
      "1488885.2999999998\n"
     ]
    }
   ],
   "source": [
    "total_sales = common_df['spent'].sum()\n",
    "print(\"Total Sales:\")\n",
    "print(total_sales)"
   ]
  },
  {
   "cell_type": "code",
   "execution_count": 22,
   "id": "3c148123",
   "metadata": {},
   "outputs": [
    {
     "name": "stdout",
     "output_type": "stream",
     "text": [
      "Average Order Value:\n",
      "496.2950999999987\n"
     ]
    }
   ],
   "source": [
    "avg_order_values = common_df['spent'].mean()\n",
    "print(\"Average Order Value:\")\n",
    "print(avg_order_values)"
   ]
  },
  {
   "cell_type": "code",
   "execution_count": 23,
   "id": "01148c51",
   "metadata": {},
   "outputs": [],
   "source": [
    "import matplotlib.pyplot as plt"
   ]
  },
  {
   "cell_type": "code",
   "execution_count": 24,
   "id": "6ba3a6be",
   "metadata": {},
   "outputs": [],
   "source": [
    "import seaborn as sns"
   ]
  },
  {
   "cell_type": "code",
   "execution_count": 25,
   "id": "10212587",
   "metadata": {},
   "outputs": [
    {
     "name": "stderr",
     "output_type": "stream",
     "text": [
      "C:\\Users\\Unnati Patodi\\Documents\\anaconda\\lib\\site-packages\\seaborn\\_decorators.py:36: FutureWarning: Pass the following variables as keyword args: x, y. From version 0.12, the only valid positional argument will be `data`, and passing other arguments without an explicit keyword will result in an error or misinterpretation.\n",
      "  warnings.warn(\n"
     ]
    },
    {
     "data": {
      "image/png": "[encoded data removed]",
      "text/plain": [
       "<Figure size 720x432 with 1 Axes>"
      ]
     },
     "metadata": {
      "needs_background": "light"
     },
     "output_type": "display_data"
    }
   ],
   "source": [
    "plt.figure(figsize=(10,6))\n",
    "sns.barplot(common_df['job'],common_df['spent'])\n",
    "plt.title('Sales By Product Category')\n",
    "plt.xlabel('product Category')\n",
    "plt.ylabel('Total Sales')\n",
    "plt.xticks(rotation = 45)\n",
    "plt.show()"
   ]
  },
  {
   "cell_type": "code",
   "execution_count": null,
   "id": "e6d65bea",
   "metadata": {},
   "outputs": [],
   "source": []
  }
 ],
 "metadata": {
  "kernelspec": {
   "display_name": "Python 3 (ipykernel)",
   "language": "python",
   "name": "python3"
  },
  "language_info": {
   "codemirror_mode": {
    "name": "ipython",
    "version": 3
   },
   "file_extension": ".py",
   "mimetype": "text/x-python",
   "name": "python",
   "nbconvert_exporter": "python",
   "pygments_lexer": "ipython3",
   "version": "3.9.7"
  }
 },
 "nbformat": 4,
 "nbformat_minor": 5
}
