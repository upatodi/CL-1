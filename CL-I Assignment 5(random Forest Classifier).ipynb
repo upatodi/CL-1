{
 "cells": [
  {
   "cell_type": "markdown",
   "id": "c4c68a21",
   "metadata": {},
   "source": [
    "Ensemble Learning (Any one)\n",
    "A. Implement Random Forest Classifier model to predict the safety of the car.\n",
    "Dataset link: https://www.kaggle.com/datasets/elikplim/car-evaluation-data-set"
   ]
  },
  {
   "cell_type": "code",
   "execution_count": 3,
   "id": "9f00b15b",
   "metadata": {},
   "outputs": [
    {
     "name": "stdout",
     "output_type": "stream",
     "text": [
      "Accuracy: 0.8728323699421965\n",
      "Classification Report:\n",
      "               precision    recall  f1-score   support\n",
      "\n",
      "       unacc       0.77      0.74      0.75        77\n",
      "         acc       0.25      0.13      0.17        15\n",
      "       vgood       0.94      0.99      0.96       237\n",
      "        good       0.64      0.53      0.58        17\n",
      "\n",
      "    accuracy                           0.87       346\n",
      "   macro avg       0.65      0.60      0.62       346\n",
      "weighted avg       0.85      0.87      0.86       346\n",
      "\n"
     ]
    }
   ],
   "source": [
    "import pandas as pd\n",
    "from sklearn.model_selection import train_test_split\n",
    "from sklearn.ensemble import RandomForestClassifier\n",
    "from sklearn.metrics import accuracy_score, classification_report\n",
    "\n",
    "# Load the dataset\n",
    "data = pd.read_csv(\"car_evaluation.csv\")\n",
    "data\n",
    "\n",
    "# Add column names based on your description\n",
    "columns = [\"buying\", \"maint\", \"doors\", \"persons\", \"lug_boot\", \"safety\", \"class\"]\n",
    "data.columns = columns\n",
    "\n",
    "# Convert categorical features to numerical using one-hot encoding\n",
    "data_encoded = pd.get_dummies(data, columns=columns[:-1], drop_first=True)\n",
    "\n",
    "# Split data into input features (X) and target labels (y)\n",
    "X = data_encoded.drop('class', axis=1)  # 'class_unacc' is one of the target classes\n",
    "y = data_encoded['class']\n",
    "\n",
    "# Split data into training and testing sets\n",
    "X_train, X_test, y_train, y_test = train_test_split(X, y, test_size=0.2, random_state=42)\n",
    "\n",
    "# Create the Random Forest Classifier model\n",
    "rf_classifier = RandomForestClassifier(random_state=42)\n",
    "\n",
    "# Train the model\n",
    "rf_classifier.fit(X_train, y_train)\n",
    "\n",
    "# Make predictions\n",
    "y_pred = rf_classifier.predict(X_test)\n",
    "\n",
    "# Calculate accuracy\n",
    "accuracy = accuracy_score(y_test, y_pred)\n",
    "print(\"Accuracy:\", accuracy)\n",
    "\n",
    "# Generate classification report\n",
    "class_report = classification_report(y_test, y_pred, target_names=data['class'].unique())\n",
    "print(\"Classification Report:\\n\", class_report)\n"
   ]
  },
  {
   "cell_type": "code",
   "execution_count": null,
   "id": "23a6351a",
   "metadata": {},
   "outputs": [],
   "source": []
  }
 ],
 "metadata": {
  "kernelspec": {
   "display_name": "Python 3 (ipykernel)",
   "language": "python",
   "name": "python3"
  },
  "language_info": {
   "codemirror_mode": {
    "name": "ipython",
    "version": 3
   },
   "file_extension": ".py",
   "mimetype": "text/x-python",
   "name": "python",
   "nbconvert_exporter": "python",
   "pygments_lexer": "ipython3",
   "version": "3.9.7"
  }
 },
 "nbformat": 4,
 "nbformat_minor": 5
}
